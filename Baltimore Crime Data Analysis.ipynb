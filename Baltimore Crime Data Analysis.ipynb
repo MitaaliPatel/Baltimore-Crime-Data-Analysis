{
  "cells": [
    {
      "cell_type": "code",
      "execution_count": null,
      "metadata": {
        "colab": {
          "base_uri": "https://localhost:8080/"
        },
        "id": "4dO3aKqH1dkJ",
        "outputId": "ecd701ed-a289-465e-f2cb-86cf51bee233"
      },
      "outputs": [
        {
          "name": "stdout",
          "output_type": "stream",
          "text": [
            "Collecting azure-storage-blob\n",
            "  Downloading azure_storage_blob-12.24.0-py3-none-any.whl.metadata (26 kB)\n",
            "Collecting azure-core>=1.30.0 (from azure-storage-blob)\n",
            "  Downloading azure_core-1.32.0-py3-none-any.whl.metadata (39 kB)\n",
            "Requirement already satisfied: cryptography>=2.1.4 in /usr/local/lib/python3.10/dist-packages (from azure-storage-blob) (43.0.3)\n",
            "Requirement already satisfied: typing-extensions>=4.6.0 in /usr/local/lib/python3.10/dist-packages (from azure-storage-blob) (4.12.2)\n",
            "Collecting isodate>=0.6.1 (from azure-storage-blob)\n",
            "  Downloading isodate-0.7.2-py3-none-any.whl.metadata (11 kB)\n",
            "Requirement already satisfied: requests>=2.21.0 in /usr/local/lib/python3.10/dist-packages (from azure-core>=1.30.0->azure-storage-blob) (2.32.3)\n",
            "Requirement already satisfied: six>=1.11.0 in /usr/local/lib/python3.10/dist-packages (from azure-core>=1.30.0->azure-storage-blob) (1.17.0)\n",
            "Requirement already satisfied: cffi>=1.12 in /usr/local/lib/python3.10/dist-packages (from cryptography>=2.1.4->azure-storage-blob) (1.17.1)\n",
            "Requirement already satisfied: pycparser in /usr/local/lib/python3.10/dist-packages (from cffi>=1.12->cryptography>=2.1.4->azure-storage-blob) (2.22)\n",
            "Requirement already satisfied: charset-normalizer<4,>=2 in /usr/local/lib/python3.10/dist-packages (from requests>=2.21.0->azure-core>=1.30.0->azure-storage-blob) (3.4.0)\n",
            "Requirement already satisfied: idna<4,>=2.5 in /usr/local/lib/python3.10/dist-packages (from requests>=2.21.0->azure-core>=1.30.0->azure-storage-blob) (3.10)\n",
            "Requirement already satisfied: urllib3<3,>=1.21.1 in /usr/local/lib/python3.10/dist-packages (from requests>=2.21.0->azure-core>=1.30.0->azure-storage-blob) (2.2.3)\n",
            "Requirement already satisfied: certifi>=2017.4.17 in /usr/local/lib/python3.10/dist-packages (from requests>=2.21.0->azure-core>=1.30.0->azure-storage-blob) (2024.8.30)\n",
            "Downloading azure_storage_blob-12.24.0-py3-none-any.whl (408 kB)\n",
            "\u001b[2K   \u001b[90m━━━━━━━━━━━━━━━━━━━━━━━━━━━━━━━━━━━━━━━━\u001b[0m \u001b[32m408.6/408.6 kB\u001b[0m \u001b[31m6.9 MB/s\u001b[0m eta \u001b[36m0:00:00\u001b[0m\n",
            "\u001b[?25hDownloading azure_core-1.32.0-py3-none-any.whl (198 kB)\n",
            "\u001b[2K   \u001b[90m━━━━━━━━━━━━━━━━━━━━━━━━━━━━━━━━━━━━━━━━\u001b[0m \u001b[32m198.9/198.9 kB\u001b[0m \u001b[31m6.0 MB/s\u001b[0m eta \u001b[36m0:00:00\u001b[0m\n",
            "\u001b[?25hDownloading isodate-0.7.2-py3-none-any.whl (22 kB)\n",
            "Installing collected packages: isodate, azure-core, azure-storage-blob\n",
            "Successfully installed azure-core-1.32.0 azure-storage-blob-12.24.0 isodate-0.7.2\n"
          ]
        }
      ],
      "source": [
        "pip install azure-storage-blob\n"
      ]
    },
    {
      "cell_type": "code",
      "execution_count": null,
      "metadata": {
        "id": "8RbxbBUl1baA"
      },
      "outputs": [],
      "source": [
        "import requests\n",
        "import pandas as pd\n",
        "from io import StringIO\n",
        "from azure.storage.blob import BlobServiceClient, BlobClient, ContainerClient"
      ]
    },
    {
      "cell_type": "code",
      "execution_count": null,
      "metadata": {
        "id": "vG4RBnky09_j"
      },
      "outputs": [],
      "source": [
        "def extraction(url,fname):\n",
        "  headers = {\n",
        "      'X-Api-Key':'ApiKeyValue'\n",
        "  }\n",
        "\n",
        "  response = requests.get(url, headers=headers)\n",
        "\n",
        "  if response.status_code == 200:\n",
        "      try:\n",
        "\n",
        "          df = pd.read_csv(StringIO(response.text))\n",
        "      except Exception as e:\n",
        "          print(\"Error: Unable to parse CSV\")\n",
        "          print(e)\n",
        "  else:\n",
        "      print(f\"Error: {response.status_code}\")\n",
        "      print(response.text)\n",
        "  csv_file = fname+'.csv'\n",
        "  if csv_file=='PoliceStation.csv':\n",
        "    columns=['gis_id','srcid_t','edit_date','subtype','address','city','state','zipcode','x_coord','y_coord','name','nghbrhd','commander','phone']\n",
        "    df=df[columns]\n",
        "  else:\n",
        "    columns=[\t'IncidentNumber' , 'ArrestNumber' ,\t'Age' , 'Gender' , 'Race' , 'ArrestDateTime' ,\t'ArrestLocation' ,\t'IncidentOffence' , 'IncidentLocation' , 'Charge' , 'ChargeDescription' , 'District' , 'Post' , 'Neighborhood' , 'Latitude' , 'Longitude']\n",
        "    df=df[columns]\n",
        "    df['IncidentNumber'].fillna(0, inplace=True)\n",
        "    df['ArrestNumber'].fillna(0, inplace=True)\n",
        "    df = df[df['ArrestNumber'] != 0]\n",
        "    df = df.drop_duplicates(subset=['ArrestNumber'], keep='first')\n",
        "\n",
        "\n",
        "  connection_string = 'DefaultEndpointsProtocol=https;AccountName=crimeanalytics;AccountKey=RErlJSqJJjgTig9G+2RowOIxQcHyp8qg2AGAuK97nJr7DMuRvPz53o8/p/PDBDsUesSTgjZ0dVuZ+AStFn1KqQ==;EndpointSuffix=core.windows.net'\n",
        "  container_name = 'crime-analytics-container'\n",
        "  df.to_csv(csv_file, index=False)\n",
        "  blob_service_client = BlobServiceClient.from_connection_string(connection_string)\n",
        "\n",
        "  blob_client = blob_service_client.get_blob_client(container=container_name, blob=csv_file)\n",
        "\n",
        "\n",
        "  with open(csv_file, 'rb') as data:\n",
        "      blob_client.upload_blob(data, overwrite=True)\n",
        "\n",
        "  print(f\"CSV file '{csv_file}' uploaded to Azure Blob Storage in container '{container_name}'\")"
      ]
    },
    {
      "cell_type": "code",
      "execution_count": null,
      "metadata": {
        "id": "cvAOgh5_VdPP"
      },
      "outputs": [],
      "source": [
        "dict={'PoliceStation':'https://data.baltimorecity.gov/api/download/v1/items/e734ec5b2f994f3291c9226259e16525/csv?layers=0',\n",
        "      'BPDArrests':'https://data.baltimorecity.gov/api/download/v1/items/619ec10c14b346f784a5a07bad4c43cd/csv?layers=0'}\n"
      ]
    },
    {
      "cell_type": "code",
      "execution_count": null,
      "metadata": {
        "colab": {
          "base_uri": "https://localhost:8080/"
        },
        "id": "vhh9Q-dRVnpr",
        "outputId": "7b914cb9-bef6-4561-8957-a9161e3f19e9"
      },
      "outputs": [
        {
          "name": "stdout",
          "output_type": "stream",
          "text": [
            "CSV file 'PoliceStation.csv' uploaded to Azure Blob Storage in container 'crime-analytics-container'\n"
          ]
        },
        {
          "name": "stderr",
          "output_type": "stream",
          "text": [
            "<ipython-input-3-620d0346f050>:25: FutureWarning: A value is trying to be set on a copy of a DataFrame or Series through chained assignment using an inplace method.\n",
            "The behavior will change in pandas 3.0. This inplace method will never work because the intermediate object on which we are setting values always behaves as a copy.\n",
            "\n",
            "For example, when doing 'df[col].method(value, inplace=True)', try using 'df.method({col: value}, inplace=True)' or df[col] = df[col].method(value) instead, to perform the operation inplace on the original object.\n",
            "\n",
            "\n",
            "  df['IncidentNumber'].fillna(0, inplace=True)\n",
            "<ipython-input-3-620d0346f050>:26: FutureWarning: A value is trying to be set on a copy of a DataFrame or Series through chained assignment using an inplace method.\n",
            "The behavior will change in pandas 3.0. This inplace method will never work because the intermediate object on which we are setting values always behaves as a copy.\n",
            "\n",
            "For example, when doing 'df[col].method(value, inplace=True)', try using 'df.method({col: value}, inplace=True)' or df[col] = df[col].method(value) instead, to perform the operation inplace on the original object.\n",
            "\n",
            "\n",
            "  df['ArrestNumber'].fillna(0, inplace=True)\n"
          ]
        },
        {
          "name": "stdout",
          "output_type": "stream",
          "text": [
            "CSV file 'BPDArrests.csv' uploaded to Azure Blob Storage in container 'crime-analytics-container'\n"
          ]
        }
      ],
      "source": [
        "for key, value in dict.items():\n",
        "    extraction(value, key)"
      ]
    },
    {
      "cell_type": "markdown",
      "metadata": {
        "id": "GMNF3D9hVc9V"
      },
      "source": []
    }
  ],
  "metadata": {
    "colab": {
      "provenance": []
    },
    "kernelspec": {
      "display_name": "Python 3",
      "name": "python3"
    },
    "language_info": {
      "name": "python"
    }
  },
  "nbformat": 4,
  "nbformat_minor": 0
}
